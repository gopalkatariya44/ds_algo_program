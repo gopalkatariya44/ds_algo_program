{
 "cells": [
  {
   "cell_type": "code",
   "execution_count": 5,
   "id": "initial_id",
   "metadata": {
    "collapsed": true,
    "ExecuteTime": {
     "end_time": "2024-01-07T05:45:16.002252Z",
     "start_time": "2024-01-07T05:45:15.980177Z"
    }
   },
   "outputs": [],
   "source": [
    "def max_profit(stocks):\n",
    "    mini = stocks[0]\n",
    "    profit = 0\n",
    "    for i in stocks[1:]:\n",
    "        print(i)\n",
    "        cost = i - mini\n",
    "        profit = max(profit, cost)\n",
    "        mini = min(i, mini)\n",
    "    return profit"
   ]
  },
  {
   "cell_type": "code",
   "execution_count": 6,
   "outputs": [
    {
     "name": "stdout",
     "output_type": "stream",
     "text": [
      "1\n",
      "5\n",
      "3\n",
      "6\n"
     ]
    },
    {
     "data": {
      "text/plain": "5"
     },
     "execution_count": 6,
     "metadata": {},
     "output_type": "execute_result"
    }
   ],
   "source": [
    "stocks = [7, 1, 5, 3, 6]\n",
    "max_profit(stocks)"
   ],
   "metadata": {
    "collapsed": false,
    "ExecuteTime": {
     "end_time": "2024-01-07T05:45:16.218218Z",
     "start_time": "2024-01-07T05:45:16.215386Z"
    }
   },
   "id": "d3ef08e963b02b3f"
  },
  {
   "cell_type": "code",
   "execution_count": 22,
   "outputs": [],
   "source": [
    " nums = {1, 2, 3, 4, 5, 6}\n",
    " nums1 = {1, 2, 3, 4, 5, 7}"
   ],
   "metadata": {
    "collapsed": false,
    "ExecuteTime": {
     "end_time": "2024-01-07T13:03:50.541704Z",
     "start_time": "2024-01-07T13:03:50.533956Z"
    }
   },
   "id": "639859f992fb41b7"
  },
  {
   "cell_type": "code",
   "execution_count": 23,
   "outputs": [
    {
     "data": {
      "text/plain": "{1, 2, 3, 4, 5}"
     },
     "execution_count": 23,
     "metadata": {},
     "output_type": "execute_result"
    }
   ],
   "source": [
    "nums.intersection(nums1, nums)"
   ],
   "metadata": {
    "collapsed": false,
    "ExecuteTime": {
     "end_time": "2024-01-07T13:03:50.589799Z",
     "start_time": "2024-01-07T13:03:50.582403Z"
    }
   },
   "id": "917f5fa90f3dd6c8"
  },
  {
   "cell_type": "code",
   "execution_count": null,
   "outputs": [],
   "source": [],
   "metadata": {
    "collapsed": false,
    "is_executing": true
   },
   "id": "4270f0adff98f050"
  },
  {
   "cell_type": "code",
   "execution_count": null,
   "outputs": [],
   "source": [],
   "metadata": {
    "collapsed": false
   },
   "id": "cc8d17ecd81e4260"
  }
 ],
 "metadata": {
  "kernelspec": {
   "display_name": "Python 3",
   "language": "python",
   "name": "python3"
  },
  "language_info": {
   "codemirror_mode": {
    "name": "ipython",
    "version": 2
   },
   "file_extension": ".py",
   "mimetype": "text/x-python",
   "name": "python",
   "nbconvert_exporter": "python",
   "pygments_lexer": "ipython2",
   "version": "2.7.6"
  }
 },
 "nbformat": 4,
 "nbformat_minor": 5
}
